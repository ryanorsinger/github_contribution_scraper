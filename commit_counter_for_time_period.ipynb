{
 "cells": [
  {
   "cell_type": "code",
   "execution_count": 1,
   "id": "stretch-place",
   "metadata": {},
   "outputs": [],
   "source": [
    "from requests import get\n",
    "from bs4 import BeautifulSoup\n",
    "import pandas as pd"
   ]
  },
  {
   "cell_type": "code",
   "execution_count": 2,
   "id": "infectious-shame",
   "metadata": {},
   "outputs": [],
   "source": [
    "# User defined info\n",
    "username = \"ryanorsinger\"\n",
    "start_date = \"2021-07-15\"\n",
    "end_date = \"2021-07-30\""
   ]
  },
  {
   "cell_type": "code",
   "execution_count": 3,
   "id": "minimal-contemporary",
   "metadata": {},
   "outputs": [],
   "source": [
    "# Setup\n",
    "start_date = pd.to_datetime(start_date)\n",
    "end_date = pd.to_datetime(end_date)\n",
    "base_url = \"https://github.com/\"\n",
    "url = base_url + username"
   ]
  },
  {
   "cell_type": "code",
   "execution_count": 4,
   "id": "similar-syndication",
   "metadata": {},
   "outputs": [],
   "source": [
    "response = get(url)"
   ]
  },
  {
   "cell_type": "code",
   "execution_count": 5,
   "id": "billion-niagara",
   "metadata": {},
   "outputs": [],
   "source": [
    "soup = BeautifulSoup(response.content, 'html.parser')\n",
    "all_commits = soup.select(\".ContributionCalendar-day\")"
   ]
  },
  {
   "cell_type": "markdown",
   "id": "reasonable-words",
   "metadata": {},
   "source": [
    "## Pretty Cool Takeaway:\n",
    "- If you have a tag from BeautifulSoup, you can do `tag[\"attribute-name\"]` to access the attribute name provided\n",
    "- For example: `tag[\"data-date\"]` or, `commit[\"data-count\"]`"
   ]
  },
  {
   "cell_type": "code",
   "execution_count": 6,
   "id": "neural-rhythm",
   "metadata": {},
   "outputs": [
    {
     "data": {
      "text/html": [
       "<div>\n",
       "<style scoped>\n",
       "    .dataframe tbody tr th:only-of-type {\n",
       "        vertical-align: middle;\n",
       "    }\n",
       "\n",
       "    .dataframe tbody tr th {\n",
       "        vertical-align: top;\n",
       "    }\n",
       "\n",
       "    .dataframe thead th {\n",
       "        text-align: right;\n",
       "    }\n",
       "</style>\n",
       "<table border=\"1\" class=\"dataframe\">\n",
       "  <thead>\n",
       "    <tr style=\"text-align: right;\">\n",
       "      <th></th>\n",
       "      <th>date</th>\n",
       "      <th>number_of_commits</th>\n",
       "    </tr>\n",
       "  </thead>\n",
       "  <tbody>\n",
       "    <tr>\n",
       "      <th>0</th>\n",
       "      <td>2020-07-26</td>\n",
       "      <td>0</td>\n",
       "    </tr>\n",
       "    <tr>\n",
       "      <th>1</th>\n",
       "      <td>2020-07-27</td>\n",
       "      <td>3</td>\n",
       "    </tr>\n",
       "    <tr>\n",
       "      <th>2</th>\n",
       "      <td>2020-07-28</td>\n",
       "      <td>0</td>\n",
       "    </tr>\n",
       "    <tr>\n",
       "      <th>3</th>\n",
       "      <td>2020-07-29</td>\n",
       "      <td>6</td>\n",
       "    </tr>\n",
       "    <tr>\n",
       "      <th>4</th>\n",
       "      <td>2020-07-30</td>\n",
       "      <td>5</td>\n",
       "    </tr>\n",
       "  </tbody>\n",
       "</table>\n",
       "</div>"
      ],
      "text/plain": [
       "        date  number_of_commits\n",
       "0 2020-07-26                  0\n",
       "1 2020-07-27                  3\n",
       "2 2020-07-28                  0\n",
       "3 2020-07-29                  6\n",
       "4 2020-07-30                  5"
      ]
     },
     "execution_count": 6,
     "metadata": {},
     "output_type": "execute_result"
    }
   ],
   "source": [
    "output = []\n",
    "for commit in all_commits:\n",
    "    if commit.has_attr(\"data-date\") and commit.has_attr(\"data-date\"):\n",
    "        info = {}\n",
    "        info[\"date\"] = commit[\"data-date\"]\n",
    "        info[\"number_of_commits\"] = commit[\"data-count\"]\n",
    "        output.append(info)\n",
    "\n",
    "df = pd.DataFrame(output)\n",
    "\n",
    "# Ensure proper data types\n",
    "df.date = pd.to_datetime(df.date)\n",
    "df.number_of_commits = df.number_of_commits.astype(int)\n",
    "\n",
    "# Peak at the dataframe\n",
    "df.head()"
   ]
  },
  {
   "cell_type": "code",
   "execution_count": 10,
   "id": "trained-wellington",
   "metadata": {},
   "outputs": [
    {
     "data": {
      "text/html": [
       "<div>\n",
       "<style scoped>\n",
       "    .dataframe tbody tr th:only-of-type {\n",
       "        vertical-align: middle;\n",
       "    }\n",
       "\n",
       "    .dataframe tbody tr th {\n",
       "        vertical-align: top;\n",
       "    }\n",
       "\n",
       "    .dataframe thead th {\n",
       "        text-align: right;\n",
       "    }\n",
       "</style>\n",
       "<table border=\"1\" class=\"dataframe\">\n",
       "  <thead>\n",
       "    <tr style=\"text-align: right;\">\n",
       "      <th></th>\n",
       "      <th>date</th>\n",
       "      <th>number_of_commits</th>\n",
       "    </tr>\n",
       "  </thead>\n",
       "  <tbody>\n",
       "    <tr>\n",
       "      <th>354</th>\n",
       "      <td>2021-07-15</td>\n",
       "      <td>2</td>\n",
       "    </tr>\n",
       "    <tr>\n",
       "      <th>355</th>\n",
       "      <td>2021-07-16</td>\n",
       "      <td>1</td>\n",
       "    </tr>\n",
       "    <tr>\n",
       "      <th>356</th>\n",
       "      <td>2021-07-17</td>\n",
       "      <td>0</td>\n",
       "    </tr>\n",
       "    <tr>\n",
       "      <th>357</th>\n",
       "      <td>2021-07-18</td>\n",
       "      <td>0</td>\n",
       "    </tr>\n",
       "    <tr>\n",
       "      <th>358</th>\n",
       "      <td>2021-07-19</td>\n",
       "      <td>2</td>\n",
       "    </tr>\n",
       "  </tbody>\n",
       "</table>\n",
       "</div>"
      ],
      "text/plain": [
       "          date  number_of_commits\n",
       "354 2021-07-15                  2\n",
       "355 2021-07-16                  1\n",
       "356 2021-07-17                  0\n",
       "357 2021-07-18                  0\n",
       "358 2021-07-19                  2"
      ]
     },
     "execution_count": 10,
     "metadata": {},
     "output_type": "execute_result"
    }
   ],
   "source": [
    "after_start = start_date <= df.date \n",
    "before_end = df.date <= end_date\n",
    "\n",
    "mask = after_start & before_end\n",
    "df[mask].head()"
   ]
  },
  {
   "cell_type": "code",
   "execution_count": 8,
   "id": "closed-prisoner",
   "metadata": {},
   "outputs": [
    {
     "data": {
      "text/plain": [
       "'42 total commits in this time frame'"
      ]
     },
     "execution_count": 8,
     "metadata": {},
     "output_type": "execute_result"
    }
   ],
   "source": [
    "subset = df[mask]\n",
    "total_commits = subset.number_of_commits.sum()\n",
    "f\"{total_commits} total commits in this time frame\""
   ]
  },
  {
   "cell_type": "code",
   "execution_count": 9,
   "id": "administrative-burst",
   "metadata": {},
   "outputs": [
    {
     "data": {
      "text/plain": [
       "'5 days with zero commits'"
      ]
     },
     "execution_count": 9,
     "metadata": {},
     "output_type": "execute_result"
    }
   ],
   "source": [
    "number_of_days_with_zero_commits = subset[subset.number_of_commits == 0].shape[0]\n",
    "f\"{number_of_days_with_zero_commits} days with zero commits\""
   ]
  }
 ],
 "metadata": {
  "kernelspec": {
   "display_name": "Python 3",
   "language": "python",
   "name": "python3"
  },
  "language_info": {
   "codemirror_mode": {
    "name": "ipython",
    "version": 3
   },
   "file_extension": ".py",
   "mimetype": "text/x-python",
   "name": "python",
   "nbconvert_exporter": "python",
   "pygments_lexer": "ipython3",
   "version": "3.7.3"
  }
 },
 "nbformat": 4,
 "nbformat_minor": 5
}
